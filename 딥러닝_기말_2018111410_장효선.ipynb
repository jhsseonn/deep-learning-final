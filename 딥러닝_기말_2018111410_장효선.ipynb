{
  "nbformat": 4,
  "nbformat_minor": 0,
  "metadata": {
    "colab": {
      "provenance": []
    },
    "kernelspec": {
      "name": "python3",
      "display_name": "Python 3"
    },
    "language_info": {
      "name": "python"
    },
    "accelerator": "GPU",
    "gpuClass": "standard"
  },
  "cells": [
    {
      "cell_type": "code",
      "source": [
        "from google.colab import drive\n",
        "from os.path import join\n",
        "ROOT = \"/content/drive\"\n",
        "print(ROOT)\n",
        "drive.mount(ROOT)"
      ],
      "metadata": {
        "colab": {
          "base_uri": "https://localhost:8080/"
        },
        "id": "CcodP0QvZn5u",
        "outputId": "6574ddd3-7e96-4941-bea3-3212b606e661"
      },
      "execution_count": 1,
      "outputs": [
        {
          "output_type": "stream",
          "name": "stdout",
          "text": [
            "/content/drive\n",
            "Mounted at /content/drive\n"
          ]
        }
      ]
    },
    {
      "cell_type": "markdown",
      "source": [
        "# 서울시 부동산 전월세가 예측 모델 구축\n",
        "내년에 이사를 해야해서 부동산 정보를 찾아보던 중, 내년 서울시의 부동산 전월세가가 어떻게 될지 궁금해짐. 이에 LSTM 모델을 사용해 2020, 2021년도 서울시 부동산 전월세가 데이터로 서울시 부동산 전월세가를 예측해보았다.\n",
        "\n",
        "## 사용 데이터\n",
        "서울열린데이터광장의 서울시 부동산 전월세가 정보\n",
        "\n",
        "## 사용 모델\n",
        "LSTM\n",
        "CNN + LSTM\n"
      ],
      "metadata": {
        "id": "vRMfdjPlZ9LV"
      }
    },
    {
      "cell_type": "code",
      "execution_count": 2,
      "metadata": {
        "colab": {
          "base_uri": "https://localhost:8080/"
        },
        "id": "8fcmcb2xZlki",
        "outputId": "820b5d5d-f92c-47ad-b948-cdff00949106"
      },
      "outputs": [
        {
          "output_type": "stream",
          "name": "stderr",
          "text": [
            "/usr/local/lib/python3.8/dist-packages/IPython/core/interactiveshell.py:3326: DtypeWarning: Columns (18,19,20) have mixed types.Specify dtype option on import or set low_memory=False.\n",
            "  exec(code_obj, self.user_global_ns, self.user_ns)\n"
          ]
        }
      ],
      "source": [
        "import pandas as pd\n",
        "\n",
        "seoul_house = pd.read_csv('/content/drive/MyDrive/Github/Deep-Learning-Final/서울시 부동산 전월세가 정보.csv', encoding='cp949')"
      ]
    },
    {
      "cell_type": "code",
      "source": [
        "seoul_house"
      ],
      "metadata": {
        "colab": {
          "base_uri": "https://localhost:8080/",
          "height": 1000
        },
        "id": "s3upzz7hacSO",
        "outputId": "96760ee3-5659-4b29-df18-2aa50092fbbf"
      },
      "execution_count": 3,
      "outputs": [
        {
          "output_type": "execute_result",
          "data": {
            "text/plain": [
              "        접수연도  자치구코드  자치구명  법정동코드  법정동명  지번구분 지번구분명     본번    부번     층  ...  \\\n",
              "0       2022  11500   강서구  10500   마곡동   1.0    대지  760.0   0.0   3.0  ...   \n",
              "1       2022  11305   강북구  10300   수유동   1.0    대지  190.0  24.0   6.0  ...   \n",
              "2       2022  11440   마포구  11000  노고산동   1.0    대지  107.0  36.0   3.0  ...   \n",
              "3       2022  11500   강서구  10500   마곡동   1.0    대지  760.0   0.0  10.0  ...   \n",
              "4       2022  11710   송파구  10600   삼전동   1.0    대지  101.0   7.0   2.0  ...   \n",
              "...      ...    ...   ...    ...   ...   ...   ...    ...   ...   ...  ...   \n",
              "639995  2021  11260   중랑구  10300   중화동   NaN   NaN    NaN   NaN   NaN  ...   \n",
              "639996  2021  11305   강북구  10300   수유동   NaN   NaN    NaN   NaN   NaN  ...   \n",
              "639997  2021  11500   강서구  10300   화곡동   1.0    대지  926.0  10.0  11.0  ...   \n",
              "639998  2021  11560  영등포구  13300   대림동   NaN   NaN    NaN   NaN   NaN  ...   \n",
              "639999  2021  11650   서초구  10100   방배동   NaN   NaN    NaN   NaN   NaN  ...   \n",
              "\n",
              "        보증금(만원) 임대료(만원)             건물명    건축년도   건물용도         계약기간  신규갱신여부  \\\n",
              "0         17500       0  마곡나루역보타닉푸르지오시티  2017.0   오피스텔          NaN     NaN   \n",
              "1          7875       0           코지하우스  2013.0  연립다세대          NaN     NaN   \n",
              "2         22000       0           현대벤처빌  2002.0    아파트          NaN     NaN   \n",
              "3         16500       0  마곡나루역보타닉푸르지오시티  2017.0   오피스텔          NaN     NaN   \n",
              "4          1000      58         (101-7)  2002.0  연립다세대          NaN     NaN   \n",
              "...         ...     ...             ...     ...    ...          ...     ...   \n",
              "639995     3000      30             NaN  1982.0  단독다가구  21.08~23.08     NaN   \n",
              "639996    14000       0             NaN  1995.0  단독다가구  21.08~23.08     NaN   \n",
              "639997     5770       0    행복타운(926-10)  2012.0    아파트  21.06~23.06     NaN   \n",
              "639998    13000       0             NaN  1991.0  단독다가구  21.08~23.07      신규   \n",
              "639999      500      55             NaN  2011.0  단독다가구  21.08~23.08      신규   \n",
              "\n",
              "       계약갱신권사용여부 종전 보증금 종전 임대료  \n",
              "0            NaN    NaN    NaN  \n",
              "1            NaN    NaN    NaN  \n",
              "2            NaN    NaN    NaN  \n",
              "3            NaN    NaN    NaN  \n",
              "4            NaN    NaN    NaN  \n",
              "...          ...    ...    ...  \n",
              "639995       NaN    NaN    NaN  \n",
              "639996       NaN    NaN    NaN  \n",
              "639997       NaN    NaN    NaN  \n",
              "639998       NaN    NaN    NaN  \n",
              "639999       NaN    NaN    NaN  \n",
              "\n",
              "[640000 rows x 23 columns]"
            ],
            "text/html": [
              "\n",
              "  <div id=\"df-0a6254ac-7e26-49f2-9f54-3cd299f3bfd0\">\n",
              "    <div class=\"colab-df-container\">\n",
              "      <div>\n",
              "<style scoped>\n",
              "    .dataframe tbody tr th:only-of-type {\n",
              "        vertical-align: middle;\n",
              "    }\n",
              "\n",
              "    .dataframe tbody tr th {\n",
              "        vertical-align: top;\n",
              "    }\n",
              "\n",
              "    .dataframe thead th {\n",
              "        text-align: right;\n",
              "    }\n",
              "</style>\n",
              "<table border=\"1\" class=\"dataframe\">\n",
              "  <thead>\n",
              "    <tr style=\"text-align: right;\">\n",
              "      <th></th>\n",
              "      <th>접수연도</th>\n",
              "      <th>자치구코드</th>\n",
              "      <th>자치구명</th>\n",
              "      <th>법정동코드</th>\n",
              "      <th>법정동명</th>\n",
              "      <th>지번구분</th>\n",
              "      <th>지번구분명</th>\n",
              "      <th>본번</th>\n",
              "      <th>부번</th>\n",
              "      <th>층</th>\n",
              "      <th>...</th>\n",
              "      <th>보증금(만원)</th>\n",
              "      <th>임대료(만원)</th>\n",
              "      <th>건물명</th>\n",
              "      <th>건축년도</th>\n",
              "      <th>건물용도</th>\n",
              "      <th>계약기간</th>\n",
              "      <th>신규갱신여부</th>\n",
              "      <th>계약갱신권사용여부</th>\n",
              "      <th>종전 보증금</th>\n",
              "      <th>종전 임대료</th>\n",
              "    </tr>\n",
              "  </thead>\n",
              "  <tbody>\n",
              "    <tr>\n",
              "      <th>0</th>\n",
              "      <td>2022</td>\n",
              "      <td>11500</td>\n",
              "      <td>강서구</td>\n",
              "      <td>10500</td>\n",
              "      <td>마곡동</td>\n",
              "      <td>1.0</td>\n",
              "      <td>대지</td>\n",
              "      <td>760.0</td>\n",
              "      <td>0.0</td>\n",
              "      <td>3.0</td>\n",
              "      <td>...</td>\n",
              "      <td>17500</td>\n",
              "      <td>0</td>\n",
              "      <td>마곡나루역보타닉푸르지오시티</td>\n",
              "      <td>2017.0</td>\n",
              "      <td>오피스텔</td>\n",
              "      <td>NaN</td>\n",
              "      <td>NaN</td>\n",
              "      <td>NaN</td>\n",
              "      <td>NaN</td>\n",
              "      <td>NaN</td>\n",
              "    </tr>\n",
              "    <tr>\n",
              "      <th>1</th>\n",
              "      <td>2022</td>\n",
              "      <td>11305</td>\n",
              "      <td>강북구</td>\n",
              "      <td>10300</td>\n",
              "      <td>수유동</td>\n",
              "      <td>1.0</td>\n",
              "      <td>대지</td>\n",
              "      <td>190.0</td>\n",
              "      <td>24.0</td>\n",
              "      <td>6.0</td>\n",
              "      <td>...</td>\n",
              "      <td>7875</td>\n",
              "      <td>0</td>\n",
              "      <td>코지하우스</td>\n",
              "      <td>2013.0</td>\n",
              "      <td>연립다세대</td>\n",
              "      <td>NaN</td>\n",
              "      <td>NaN</td>\n",
              "      <td>NaN</td>\n",
              "      <td>NaN</td>\n",
              "      <td>NaN</td>\n",
              "    </tr>\n",
              "    <tr>\n",
              "      <th>2</th>\n",
              "      <td>2022</td>\n",
              "      <td>11440</td>\n",
              "      <td>마포구</td>\n",
              "      <td>11000</td>\n",
              "      <td>노고산동</td>\n",
              "      <td>1.0</td>\n",
              "      <td>대지</td>\n",
              "      <td>107.0</td>\n",
              "      <td>36.0</td>\n",
              "      <td>3.0</td>\n",
              "      <td>...</td>\n",
              "      <td>22000</td>\n",
              "      <td>0</td>\n",
              "      <td>현대벤처빌</td>\n",
              "      <td>2002.0</td>\n",
              "      <td>아파트</td>\n",
              "      <td>NaN</td>\n",
              "      <td>NaN</td>\n",
              "      <td>NaN</td>\n",
              "      <td>NaN</td>\n",
              "      <td>NaN</td>\n",
              "    </tr>\n",
              "    <tr>\n",
              "      <th>3</th>\n",
              "      <td>2022</td>\n",
              "      <td>11500</td>\n",
              "      <td>강서구</td>\n",
              "      <td>10500</td>\n",
              "      <td>마곡동</td>\n",
              "      <td>1.0</td>\n",
              "      <td>대지</td>\n",
              "      <td>760.0</td>\n",
              "      <td>0.0</td>\n",
              "      <td>10.0</td>\n",
              "      <td>...</td>\n",
              "      <td>16500</td>\n",
              "      <td>0</td>\n",
              "      <td>마곡나루역보타닉푸르지오시티</td>\n",
              "      <td>2017.0</td>\n",
              "      <td>오피스텔</td>\n",
              "      <td>NaN</td>\n",
              "      <td>NaN</td>\n",
              "      <td>NaN</td>\n",
              "      <td>NaN</td>\n",
              "      <td>NaN</td>\n",
              "    </tr>\n",
              "    <tr>\n",
              "      <th>4</th>\n",
              "      <td>2022</td>\n",
              "      <td>11710</td>\n",
              "      <td>송파구</td>\n",
              "      <td>10600</td>\n",
              "      <td>삼전동</td>\n",
              "      <td>1.0</td>\n",
              "      <td>대지</td>\n",
              "      <td>101.0</td>\n",
              "      <td>7.0</td>\n",
              "      <td>2.0</td>\n",
              "      <td>...</td>\n",
              "      <td>1000</td>\n",
              "      <td>58</td>\n",
              "      <td>(101-7)</td>\n",
              "      <td>2002.0</td>\n",
              "      <td>연립다세대</td>\n",
              "      <td>NaN</td>\n",
              "      <td>NaN</td>\n",
              "      <td>NaN</td>\n",
              "      <td>NaN</td>\n",
              "      <td>NaN</td>\n",
              "    </tr>\n",
              "    <tr>\n",
              "      <th>...</th>\n",
              "      <td>...</td>\n",
              "      <td>...</td>\n",
              "      <td>...</td>\n",
              "      <td>...</td>\n",
              "      <td>...</td>\n",
              "      <td>...</td>\n",
              "      <td>...</td>\n",
              "      <td>...</td>\n",
              "      <td>...</td>\n",
              "      <td>...</td>\n",
              "      <td>...</td>\n",
              "      <td>...</td>\n",
              "      <td>...</td>\n",
              "      <td>...</td>\n",
              "      <td>...</td>\n",
              "      <td>...</td>\n",
              "      <td>...</td>\n",
              "      <td>...</td>\n",
              "      <td>...</td>\n",
              "      <td>...</td>\n",
              "      <td>...</td>\n",
              "    </tr>\n",
              "    <tr>\n",
              "      <th>639995</th>\n",
              "      <td>2021</td>\n",
              "      <td>11260</td>\n",
              "      <td>중랑구</td>\n",
              "      <td>10300</td>\n",
              "      <td>중화동</td>\n",
              "      <td>NaN</td>\n",
              "      <td>NaN</td>\n",
              "      <td>NaN</td>\n",
              "      <td>NaN</td>\n",
              "      <td>NaN</td>\n",
              "      <td>...</td>\n",
              "      <td>3000</td>\n",
              "      <td>30</td>\n",
              "      <td>NaN</td>\n",
              "      <td>1982.0</td>\n",
              "      <td>단독다가구</td>\n",
              "      <td>21.08~23.08</td>\n",
              "      <td>NaN</td>\n",
              "      <td>NaN</td>\n",
              "      <td>NaN</td>\n",
              "      <td>NaN</td>\n",
              "    </tr>\n",
              "    <tr>\n",
              "      <th>639996</th>\n",
              "      <td>2021</td>\n",
              "      <td>11305</td>\n",
              "      <td>강북구</td>\n",
              "      <td>10300</td>\n",
              "      <td>수유동</td>\n",
              "      <td>NaN</td>\n",
              "      <td>NaN</td>\n",
              "      <td>NaN</td>\n",
              "      <td>NaN</td>\n",
              "      <td>NaN</td>\n",
              "      <td>...</td>\n",
              "      <td>14000</td>\n",
              "      <td>0</td>\n",
              "      <td>NaN</td>\n",
              "      <td>1995.0</td>\n",
              "      <td>단독다가구</td>\n",
              "      <td>21.08~23.08</td>\n",
              "      <td>NaN</td>\n",
              "      <td>NaN</td>\n",
              "      <td>NaN</td>\n",
              "      <td>NaN</td>\n",
              "    </tr>\n",
              "    <tr>\n",
              "      <th>639997</th>\n",
              "      <td>2021</td>\n",
              "      <td>11500</td>\n",
              "      <td>강서구</td>\n",
              "      <td>10300</td>\n",
              "      <td>화곡동</td>\n",
              "      <td>1.0</td>\n",
              "      <td>대지</td>\n",
              "      <td>926.0</td>\n",
              "      <td>10.0</td>\n",
              "      <td>11.0</td>\n",
              "      <td>...</td>\n",
              "      <td>5770</td>\n",
              "      <td>0</td>\n",
              "      <td>행복타운(926-10)</td>\n",
              "      <td>2012.0</td>\n",
              "      <td>아파트</td>\n",
              "      <td>21.06~23.06</td>\n",
              "      <td>NaN</td>\n",
              "      <td>NaN</td>\n",
              "      <td>NaN</td>\n",
              "      <td>NaN</td>\n",
              "    </tr>\n",
              "    <tr>\n",
              "      <th>639998</th>\n",
              "      <td>2021</td>\n",
              "      <td>11560</td>\n",
              "      <td>영등포구</td>\n",
              "      <td>13300</td>\n",
              "      <td>대림동</td>\n",
              "      <td>NaN</td>\n",
              "      <td>NaN</td>\n",
              "      <td>NaN</td>\n",
              "      <td>NaN</td>\n",
              "      <td>NaN</td>\n",
              "      <td>...</td>\n",
              "      <td>13000</td>\n",
              "      <td>0</td>\n",
              "      <td>NaN</td>\n",
              "      <td>1991.0</td>\n",
              "      <td>단독다가구</td>\n",
              "      <td>21.08~23.07</td>\n",
              "      <td>신규</td>\n",
              "      <td>NaN</td>\n",
              "      <td>NaN</td>\n",
              "      <td>NaN</td>\n",
              "    </tr>\n",
              "    <tr>\n",
              "      <th>639999</th>\n",
              "      <td>2021</td>\n",
              "      <td>11650</td>\n",
              "      <td>서초구</td>\n",
              "      <td>10100</td>\n",
              "      <td>방배동</td>\n",
              "      <td>NaN</td>\n",
              "      <td>NaN</td>\n",
              "      <td>NaN</td>\n",
              "      <td>NaN</td>\n",
              "      <td>NaN</td>\n",
              "      <td>...</td>\n",
              "      <td>500</td>\n",
              "      <td>55</td>\n",
              "      <td>NaN</td>\n",
              "      <td>2011.0</td>\n",
              "      <td>단독다가구</td>\n",
              "      <td>21.08~23.08</td>\n",
              "      <td>신규</td>\n",
              "      <td>NaN</td>\n",
              "      <td>NaN</td>\n",
              "      <td>NaN</td>\n",
              "    </tr>\n",
              "  </tbody>\n",
              "</table>\n",
              "<p>640000 rows × 23 columns</p>\n",
              "</div>\n",
              "      <button class=\"colab-df-convert\" onclick=\"convertToInteractive('df-0a6254ac-7e26-49f2-9f54-3cd299f3bfd0')\"\n",
              "              title=\"Convert this dataframe to an interactive table.\"\n",
              "              style=\"display:none;\">\n",
              "        \n",
              "  <svg xmlns=\"http://www.w3.org/2000/svg\" height=\"24px\"viewBox=\"0 0 24 24\"\n",
              "       width=\"24px\">\n",
              "    <path d=\"M0 0h24v24H0V0z\" fill=\"none\"/>\n",
              "    <path d=\"M18.56 5.44l.94 2.06.94-2.06 2.06-.94-2.06-.94-.94-2.06-.94 2.06-2.06.94zm-11 1L8.5 8.5l.94-2.06 2.06-.94-2.06-.94L8.5 2.5l-.94 2.06-2.06.94zm10 10l.94 2.06.94-2.06 2.06-.94-2.06-.94-.94-2.06-.94 2.06-2.06.94z\"/><path d=\"M17.41 7.96l-1.37-1.37c-.4-.4-.92-.59-1.43-.59-.52 0-1.04.2-1.43.59L10.3 9.45l-7.72 7.72c-.78.78-.78 2.05 0 2.83L4 21.41c.39.39.9.59 1.41.59.51 0 1.02-.2 1.41-.59l7.78-7.78 2.81-2.81c.8-.78.8-2.07 0-2.86zM5.41 20L4 18.59l7.72-7.72 1.47 1.35L5.41 20z\"/>\n",
              "  </svg>\n",
              "      </button>\n",
              "      \n",
              "  <style>\n",
              "    .colab-df-container {\n",
              "      display:flex;\n",
              "      flex-wrap:wrap;\n",
              "      gap: 12px;\n",
              "    }\n",
              "\n",
              "    .colab-df-convert {\n",
              "      background-color: #E8F0FE;\n",
              "      border: none;\n",
              "      border-radius: 50%;\n",
              "      cursor: pointer;\n",
              "      display: none;\n",
              "      fill: #1967D2;\n",
              "      height: 32px;\n",
              "      padding: 0 0 0 0;\n",
              "      width: 32px;\n",
              "    }\n",
              "\n",
              "    .colab-df-convert:hover {\n",
              "      background-color: #E2EBFA;\n",
              "      box-shadow: 0px 1px 2px rgba(60, 64, 67, 0.3), 0px 1px 3px 1px rgba(60, 64, 67, 0.15);\n",
              "      fill: #174EA6;\n",
              "    }\n",
              "\n",
              "    [theme=dark] .colab-df-convert {\n",
              "      background-color: #3B4455;\n",
              "      fill: #D2E3FC;\n",
              "    }\n",
              "\n",
              "    [theme=dark] .colab-df-convert:hover {\n",
              "      background-color: #434B5C;\n",
              "      box-shadow: 0px 1px 3px 1px rgba(0, 0, 0, 0.15);\n",
              "      filter: drop-shadow(0px 1px 2px rgba(0, 0, 0, 0.3));\n",
              "      fill: #FFFFFF;\n",
              "    }\n",
              "  </style>\n",
              "\n",
              "      <script>\n",
              "        const buttonEl =\n",
              "          document.querySelector('#df-0a6254ac-7e26-49f2-9f54-3cd299f3bfd0 button.colab-df-convert');\n",
              "        buttonEl.style.display =\n",
              "          google.colab.kernel.accessAllowed ? 'block' : 'none';\n",
              "\n",
              "        async function convertToInteractive(key) {\n",
              "          const element = document.querySelector('#df-0a6254ac-7e26-49f2-9f54-3cd299f3bfd0');\n",
              "          const dataTable =\n",
              "            await google.colab.kernel.invokeFunction('convertToInteractive',\n",
              "                                                     [key], {});\n",
              "          if (!dataTable) return;\n",
              "\n",
              "          const docLinkHtml = 'Like what you see? Visit the ' +\n",
              "            '<a target=\"_blank\" href=https://colab.research.google.com/notebooks/data_table.ipynb>data table notebook</a>'\n",
              "            + ' to learn more about interactive tables.';\n",
              "          element.innerHTML = '';\n",
              "          dataTable['output_type'] = 'display_data';\n",
              "          await google.colab.output.renderOutput(dataTable, element);\n",
              "          const docLink = document.createElement('div');\n",
              "          docLink.innerHTML = docLinkHtml;\n",
              "          element.appendChild(docLink);\n",
              "        }\n",
              "      </script>\n",
              "    </div>\n",
              "  </div>\n",
              "  "
            ]
          },
          "metadata": {},
          "execution_count": 3
        }
      ]
    },
    {
      "cell_type": "code",
      "source": [
        "seoul_house = seoul_house.loc[:, ['접수연도', '자치구코드', '자치구명', '법정동코드', '법정동명', '계약일', '전월세 구분', '임대면적(㎡)', '보증금(만원)', '건축년도', '건물용도']]"
      ],
      "metadata": {
        "id": "Ua36b2cgbAH5"
      },
      "execution_count": 4,
      "outputs": []
    },
    {
      "cell_type": "code",
      "source": [
        "seoul_house"
      ],
      "metadata": {
        "colab": {
          "base_uri": "https://localhost:8080/",
          "height": 606
        },
        "id": "zQK7RCvscLGc",
        "outputId": "5f1c4c09-153d-4a89-c0d0-d5c6ec1cab74"
      },
      "execution_count": 5,
      "outputs": [
        {
          "output_type": "execute_result",
          "data": {
            "text/plain": [
              "        접수연도  자치구코드  자치구명  법정동코드  법정동명       계약일 전월세 구분  임대면적(㎡)  보증금(만원)  \\\n",
              "0       2022  11500   강서구  10500   마곡동  20221216     전세    22.17    17500   \n",
              "1       2022  11305   강북구  10300   수유동  20221216     전세    14.71     7875   \n",
              "2       2022  11440   마포구  11000  노고산동  20221216     전세    34.64    22000   \n",
              "3       2022  11500   강서구  10500   마곡동  20221216     전세    19.65    16500   \n",
              "4       2022  11710   송파구  10600   삼전동  20221216     월세    29.08     1000   \n",
              "...      ...    ...   ...    ...   ...       ...    ...      ...      ...   \n",
              "639995  2021  11260   중랑구  10300   중화동  20210622     월세    51.00     3000   \n",
              "639996  2021  11305   강북구  10300   수유동  20210622     전세    58.00    14000   \n",
              "639997  2021  11500   강서구  10300   화곡동  20210622     전세    12.24     5770   \n",
              "639998  2021  11560  영등포구  13300   대림동  20210622     전세    57.16    13000   \n",
              "639999  2021  11650   서초구  10100   방배동  20210622     월세    20.00      500   \n",
              "\n",
              "          건축년도   건물용도  \n",
              "0       2017.0   오피스텔  \n",
              "1       2013.0  연립다세대  \n",
              "2       2002.0    아파트  \n",
              "3       2017.0   오피스텔  \n",
              "4       2002.0  연립다세대  \n",
              "...        ...    ...  \n",
              "639995  1982.0  단독다가구  \n",
              "639996  1995.0  단독다가구  \n",
              "639997  2012.0    아파트  \n",
              "639998  1991.0  단독다가구  \n",
              "639999  2011.0  단독다가구  \n",
              "\n",
              "[640000 rows x 11 columns]"
            ],
            "text/html": [
              "\n",
              "  <div id=\"df-8ec09b05-8a78-438f-a8d3-bc47b813d6df\">\n",
              "    <div class=\"colab-df-container\">\n",
              "      <div>\n",
              "<style scoped>\n",
              "    .dataframe tbody tr th:only-of-type {\n",
              "        vertical-align: middle;\n",
              "    }\n",
              "\n",
              "    .dataframe tbody tr th {\n",
              "        vertical-align: top;\n",
              "    }\n",
              "\n",
              "    .dataframe thead th {\n",
              "        text-align: right;\n",
              "    }\n",
              "</style>\n",
              "<table border=\"1\" class=\"dataframe\">\n",
              "  <thead>\n",
              "    <tr style=\"text-align: right;\">\n",
              "      <th></th>\n",
              "      <th>접수연도</th>\n",
              "      <th>자치구코드</th>\n",
              "      <th>자치구명</th>\n",
              "      <th>법정동코드</th>\n",
              "      <th>법정동명</th>\n",
              "      <th>계약일</th>\n",
              "      <th>전월세 구분</th>\n",
              "      <th>임대면적(㎡)</th>\n",
              "      <th>보증금(만원)</th>\n",
              "      <th>건축년도</th>\n",
              "      <th>건물용도</th>\n",
              "    </tr>\n",
              "  </thead>\n",
              "  <tbody>\n",
              "    <tr>\n",
              "      <th>0</th>\n",
              "      <td>2022</td>\n",
              "      <td>11500</td>\n",
              "      <td>강서구</td>\n",
              "      <td>10500</td>\n",
              "      <td>마곡동</td>\n",
              "      <td>20221216</td>\n",
              "      <td>전세</td>\n",
              "      <td>22.17</td>\n",
              "      <td>17500</td>\n",
              "      <td>2017.0</td>\n",
              "      <td>오피스텔</td>\n",
              "    </tr>\n",
              "    <tr>\n",
              "      <th>1</th>\n",
              "      <td>2022</td>\n",
              "      <td>11305</td>\n",
              "      <td>강북구</td>\n",
              "      <td>10300</td>\n",
              "      <td>수유동</td>\n",
              "      <td>20221216</td>\n",
              "      <td>전세</td>\n",
              "      <td>14.71</td>\n",
              "      <td>7875</td>\n",
              "      <td>2013.0</td>\n",
              "      <td>연립다세대</td>\n",
              "    </tr>\n",
              "    <tr>\n",
              "      <th>2</th>\n",
              "      <td>2022</td>\n",
              "      <td>11440</td>\n",
              "      <td>마포구</td>\n",
              "      <td>11000</td>\n",
              "      <td>노고산동</td>\n",
              "      <td>20221216</td>\n",
              "      <td>전세</td>\n",
              "      <td>34.64</td>\n",
              "      <td>22000</td>\n",
              "      <td>2002.0</td>\n",
              "      <td>아파트</td>\n",
              "    </tr>\n",
              "    <tr>\n",
              "      <th>3</th>\n",
              "      <td>2022</td>\n",
              "      <td>11500</td>\n",
              "      <td>강서구</td>\n",
              "      <td>10500</td>\n",
              "      <td>마곡동</td>\n",
              "      <td>20221216</td>\n",
              "      <td>전세</td>\n",
              "      <td>19.65</td>\n",
              "      <td>16500</td>\n",
              "      <td>2017.0</td>\n",
              "      <td>오피스텔</td>\n",
              "    </tr>\n",
              "    <tr>\n",
              "      <th>4</th>\n",
              "      <td>2022</td>\n",
              "      <td>11710</td>\n",
              "      <td>송파구</td>\n",
              "      <td>10600</td>\n",
              "      <td>삼전동</td>\n",
              "      <td>20221216</td>\n",
              "      <td>월세</td>\n",
              "      <td>29.08</td>\n",
              "      <td>1000</td>\n",
              "      <td>2002.0</td>\n",
              "      <td>연립다세대</td>\n",
              "    </tr>\n",
              "    <tr>\n",
              "      <th>...</th>\n",
              "      <td>...</td>\n",
              "      <td>...</td>\n",
              "      <td>...</td>\n",
              "      <td>...</td>\n",
              "      <td>...</td>\n",
              "      <td>...</td>\n",
              "      <td>...</td>\n",
              "      <td>...</td>\n",
              "      <td>...</td>\n",
              "      <td>...</td>\n",
              "      <td>...</td>\n",
              "    </tr>\n",
              "    <tr>\n",
              "      <th>639995</th>\n",
              "      <td>2021</td>\n",
              "      <td>11260</td>\n",
              "      <td>중랑구</td>\n",
              "      <td>10300</td>\n",
              "      <td>중화동</td>\n",
              "      <td>20210622</td>\n",
              "      <td>월세</td>\n",
              "      <td>51.00</td>\n",
              "      <td>3000</td>\n",
              "      <td>1982.0</td>\n",
              "      <td>단독다가구</td>\n",
              "    </tr>\n",
              "    <tr>\n",
              "      <th>639996</th>\n",
              "      <td>2021</td>\n",
              "      <td>11305</td>\n",
              "      <td>강북구</td>\n",
              "      <td>10300</td>\n",
              "      <td>수유동</td>\n",
              "      <td>20210622</td>\n",
              "      <td>전세</td>\n",
              "      <td>58.00</td>\n",
              "      <td>14000</td>\n",
              "      <td>1995.0</td>\n",
              "      <td>단독다가구</td>\n",
              "    </tr>\n",
              "    <tr>\n",
              "      <th>639997</th>\n",
              "      <td>2021</td>\n",
              "      <td>11500</td>\n",
              "      <td>강서구</td>\n",
              "      <td>10300</td>\n",
              "      <td>화곡동</td>\n",
              "      <td>20210622</td>\n",
              "      <td>전세</td>\n",
              "      <td>12.24</td>\n",
              "      <td>5770</td>\n",
              "      <td>2012.0</td>\n",
              "      <td>아파트</td>\n",
              "    </tr>\n",
              "    <tr>\n",
              "      <th>639998</th>\n",
              "      <td>2021</td>\n",
              "      <td>11560</td>\n",
              "      <td>영등포구</td>\n",
              "      <td>13300</td>\n",
              "      <td>대림동</td>\n",
              "      <td>20210622</td>\n",
              "      <td>전세</td>\n",
              "      <td>57.16</td>\n",
              "      <td>13000</td>\n",
              "      <td>1991.0</td>\n",
              "      <td>단독다가구</td>\n",
              "    </tr>\n",
              "    <tr>\n",
              "      <th>639999</th>\n",
              "      <td>2021</td>\n",
              "      <td>11650</td>\n",
              "      <td>서초구</td>\n",
              "      <td>10100</td>\n",
              "      <td>방배동</td>\n",
              "      <td>20210622</td>\n",
              "      <td>월세</td>\n",
              "      <td>20.00</td>\n",
              "      <td>500</td>\n",
              "      <td>2011.0</td>\n",
              "      <td>단독다가구</td>\n",
              "    </tr>\n",
              "  </tbody>\n",
              "</table>\n",
              "<p>640000 rows × 11 columns</p>\n",
              "</div>\n",
              "      <button class=\"colab-df-convert\" onclick=\"convertToInteractive('df-8ec09b05-8a78-438f-a8d3-bc47b813d6df')\"\n",
              "              title=\"Convert this dataframe to an interactive table.\"\n",
              "              style=\"display:none;\">\n",
              "        \n",
              "  <svg xmlns=\"http://www.w3.org/2000/svg\" height=\"24px\"viewBox=\"0 0 24 24\"\n",
              "       width=\"24px\">\n",
              "    <path d=\"M0 0h24v24H0V0z\" fill=\"none\"/>\n",
              "    <path d=\"M18.56 5.44l.94 2.06.94-2.06 2.06-.94-2.06-.94-.94-2.06-.94 2.06-2.06.94zm-11 1L8.5 8.5l.94-2.06 2.06-.94-2.06-.94L8.5 2.5l-.94 2.06-2.06.94zm10 10l.94 2.06.94-2.06 2.06-.94-2.06-.94-.94-2.06-.94 2.06-2.06.94z\"/><path d=\"M17.41 7.96l-1.37-1.37c-.4-.4-.92-.59-1.43-.59-.52 0-1.04.2-1.43.59L10.3 9.45l-7.72 7.72c-.78.78-.78 2.05 0 2.83L4 21.41c.39.39.9.59 1.41.59.51 0 1.02-.2 1.41-.59l7.78-7.78 2.81-2.81c.8-.78.8-2.07 0-2.86zM5.41 20L4 18.59l7.72-7.72 1.47 1.35L5.41 20z\"/>\n",
              "  </svg>\n",
              "      </button>\n",
              "      \n",
              "  <style>\n",
              "    .colab-df-container {\n",
              "      display:flex;\n",
              "      flex-wrap:wrap;\n",
              "      gap: 12px;\n",
              "    }\n",
              "\n",
              "    .colab-df-convert {\n",
              "      background-color: #E8F0FE;\n",
              "      border: none;\n",
              "      border-radius: 50%;\n",
              "      cursor: pointer;\n",
              "      display: none;\n",
              "      fill: #1967D2;\n",
              "      height: 32px;\n",
              "      padding: 0 0 0 0;\n",
              "      width: 32px;\n",
              "    }\n",
              "\n",
              "    .colab-df-convert:hover {\n",
              "      background-color: #E2EBFA;\n",
              "      box-shadow: 0px 1px 2px rgba(60, 64, 67, 0.3), 0px 1px 3px 1px rgba(60, 64, 67, 0.15);\n",
              "      fill: #174EA6;\n",
              "    }\n",
              "\n",
              "    [theme=dark] .colab-df-convert {\n",
              "      background-color: #3B4455;\n",
              "      fill: #D2E3FC;\n",
              "    }\n",
              "\n",
              "    [theme=dark] .colab-df-convert:hover {\n",
              "      background-color: #434B5C;\n",
              "      box-shadow: 0px 1px 3px 1px rgba(0, 0, 0, 0.15);\n",
              "      filter: drop-shadow(0px 1px 2px rgba(0, 0, 0, 0.3));\n",
              "      fill: #FFFFFF;\n",
              "    }\n",
              "  </style>\n",
              "\n",
              "      <script>\n",
              "        const buttonEl =\n",
              "          document.querySelector('#df-8ec09b05-8a78-438f-a8d3-bc47b813d6df button.colab-df-convert');\n",
              "        buttonEl.style.display =\n",
              "          google.colab.kernel.accessAllowed ? 'block' : 'none';\n",
              "\n",
              "        async function convertToInteractive(key) {\n",
              "          const element = document.querySelector('#df-8ec09b05-8a78-438f-a8d3-bc47b813d6df');\n",
              "          const dataTable =\n",
              "            await google.colab.kernel.invokeFunction('convertToInteractive',\n",
              "                                                     [key], {});\n",
              "          if (!dataTable) return;\n",
              "\n",
              "          const docLinkHtml = 'Like what you see? Visit the ' +\n",
              "            '<a target=\"_blank\" href=https://colab.research.google.com/notebooks/data_table.ipynb>data table notebook</a>'\n",
              "            + ' to learn more about interactive tables.';\n",
              "          element.innerHTML = '';\n",
              "          dataTable['output_type'] = 'display_data';\n",
              "          await google.colab.output.renderOutput(dataTable, element);\n",
              "          const docLink = document.createElement('div');\n",
              "          docLink.innerHTML = docLinkHtml;\n",
              "          element.appendChild(docLink);\n",
              "        }\n",
              "      </script>\n",
              "    </div>\n",
              "  </div>\n",
              "  "
            ]
          },
          "metadata": {},
          "execution_count": 5
        }
      ]
    },
    {
      "cell_type": "markdown",
      "source": [
        "### 결측치 제거"
      ],
      "metadata": {
        "id": "kogQRZJvzA5q"
      }
    },
    {
      "cell_type": "code",
      "source": [
        "drop_seoul_house = seoul_house.dropna(axis=0)"
      ],
      "metadata": {
        "id": "qHM3GqJ3cOI2"
      },
      "execution_count": 6,
      "outputs": []
    },
    {
      "cell_type": "markdown",
      "source": [
        "### 컬럼명 사용하기 쉽게 변경"
      ],
      "metadata": {
        "id": "GRuMgatazFNq"
      }
    },
    {
      "cell_type": "code",
      "source": [
        "drop_seoul_house.rename(columns={'전월세 구분':'전월세구분', '보증금(만원)':'보증금'}, inplace=True)"
      ],
      "metadata": {
        "id": "fubl8KzbervS",
        "colab": {
          "base_uri": "https://localhost:8080/"
        },
        "outputId": "11a5f48a-75ba-4564-ca48-2eff56ad24c6"
      },
      "execution_count": 7,
      "outputs": [
        {
          "output_type": "stream",
          "name": "stderr",
          "text": [
            "/usr/local/lib/python3.8/dist-packages/pandas/core/frame.py:5039: SettingWithCopyWarning: \n",
            "A value is trying to be set on a copy of a slice from a DataFrame\n",
            "\n",
            "See the caveats in the documentation: https://pandas.pydata.org/pandas-docs/stable/user_guide/indexing.html#returning-a-view-versus-a-copy\n",
            "  return super().rename(\n"
          ]
        }
      ]
    },
    {
      "cell_type": "markdown",
      "source": [
        "### 전세값만 사용"
      ],
      "metadata": {
        "id": "rMV19UTszIDM"
      }
    },
    {
      "cell_type": "code",
      "source": [
        "seoul_house_charter = (drop_seoul_house.전월세구분 == '전세')"
      ],
      "metadata": {
        "id": "bc6yIc-9d9Ro"
      },
      "execution_count": 8,
      "outputs": []
    },
    {
      "cell_type": "code",
      "source": [
        "seoul_house = drop_seoul_house[seoul_house_charter]"
      ],
      "metadata": {
        "id": "Z3LzgMr2co-X"
      },
      "execution_count": 9,
      "outputs": []
    },
    {
      "cell_type": "markdown",
      "source": [
        "### 광진구 데이터만 사용"
      ],
      "metadata": {
        "id": "4KvyVYBFzLty"
      }
    },
    {
      "cell_type": "code",
      "source": [
        "gwangjin_house = (seoul_house.자치구명 == '광진구')"
      ],
      "metadata": {
        "id": "6aJ8nzjw_0Do"
      },
      "execution_count": 10,
      "outputs": []
    },
    {
      "cell_type": "code",
      "source": [
        "gwangjin = seoul_house[gwangjin_house]"
      ],
      "metadata": {
        "id": "GsBNn8rDy1HH"
      },
      "execution_count": 11,
      "outputs": []
    },
    {
      "cell_type": "markdown",
      "source": [
        "### 계약일과 보증금 데이터만 가져와 계약일을 인덱스로 하는 데이터프레임 구조로 바꿈"
      ],
      "metadata": {
        "id": "AHnURnjSzQbr"
      }
    },
    {
      "cell_type": "code",
      "source": [
        "group = gwangjin.groupby(['계약일'])['보증금'].mean()\n",
        "group = group.reset_index()\n",
        "group.head()"
      ],
      "metadata": {
        "id": "pxyJ4UPLcqU6",
        "colab": {
          "base_uri": "https://localhost:8080/",
          "height": 206
        },
        "outputId": "228e1c03-c25c-45dc-8c49-1a2dda9cbb51"
      },
      "execution_count": 12,
      "outputs": [
        {
          "output_type": "execute_result",
          "data": {
            "text/plain": [
              "        계약일           보증금\n",
              "0  20210622  30109.722222\n",
              "1  20210623  29613.888889\n",
              "2  20210624  22993.260870\n",
              "3  20210625  37176.000000\n",
              "4  20210626  39826.538462"
            ],
            "text/html": [
              "\n",
              "  <div id=\"df-081028c8-6063-4790-a2cc-42f92338f725\">\n",
              "    <div class=\"colab-df-container\">\n",
              "      <div>\n",
              "<style scoped>\n",
              "    .dataframe tbody tr th:only-of-type {\n",
              "        vertical-align: middle;\n",
              "    }\n",
              "\n",
              "    .dataframe tbody tr th {\n",
              "        vertical-align: top;\n",
              "    }\n",
              "\n",
              "    .dataframe thead th {\n",
              "        text-align: right;\n",
              "    }\n",
              "</style>\n",
              "<table border=\"1\" class=\"dataframe\">\n",
              "  <thead>\n",
              "    <tr style=\"text-align: right;\">\n",
              "      <th></th>\n",
              "      <th>계약일</th>\n",
              "      <th>보증금</th>\n",
              "    </tr>\n",
              "  </thead>\n",
              "  <tbody>\n",
              "    <tr>\n",
              "      <th>0</th>\n",
              "      <td>20210622</td>\n",
              "      <td>30109.722222</td>\n",
              "    </tr>\n",
              "    <tr>\n",
              "      <th>1</th>\n",
              "      <td>20210623</td>\n",
              "      <td>29613.888889</td>\n",
              "    </tr>\n",
              "    <tr>\n",
              "      <th>2</th>\n",
              "      <td>20210624</td>\n",
              "      <td>22993.260870</td>\n",
              "    </tr>\n",
              "    <tr>\n",
              "      <th>3</th>\n",
              "      <td>20210625</td>\n",
              "      <td>37176.000000</td>\n",
              "    </tr>\n",
              "    <tr>\n",
              "      <th>4</th>\n",
              "      <td>20210626</td>\n",
              "      <td>39826.538462</td>\n",
              "    </tr>\n",
              "  </tbody>\n",
              "</table>\n",
              "</div>\n",
              "      <button class=\"colab-df-convert\" onclick=\"convertToInteractive('df-081028c8-6063-4790-a2cc-42f92338f725')\"\n",
              "              title=\"Convert this dataframe to an interactive table.\"\n",
              "              style=\"display:none;\">\n",
              "        \n",
              "  <svg xmlns=\"http://www.w3.org/2000/svg\" height=\"24px\"viewBox=\"0 0 24 24\"\n",
              "       width=\"24px\">\n",
              "    <path d=\"M0 0h24v24H0V0z\" fill=\"none\"/>\n",
              "    <path d=\"M18.56 5.44l.94 2.06.94-2.06 2.06-.94-2.06-.94-.94-2.06-.94 2.06-2.06.94zm-11 1L8.5 8.5l.94-2.06 2.06-.94-2.06-.94L8.5 2.5l-.94 2.06-2.06.94zm10 10l.94 2.06.94-2.06 2.06-.94-2.06-.94-.94-2.06-.94 2.06-2.06.94z\"/><path d=\"M17.41 7.96l-1.37-1.37c-.4-.4-.92-.59-1.43-.59-.52 0-1.04.2-1.43.59L10.3 9.45l-7.72 7.72c-.78.78-.78 2.05 0 2.83L4 21.41c.39.39.9.59 1.41.59.51 0 1.02-.2 1.41-.59l7.78-7.78 2.81-2.81c.8-.78.8-2.07 0-2.86zM5.41 20L4 18.59l7.72-7.72 1.47 1.35L5.41 20z\"/>\n",
              "  </svg>\n",
              "      </button>\n",
              "      \n",
              "  <style>\n",
              "    .colab-df-container {\n",
              "      display:flex;\n",
              "      flex-wrap:wrap;\n",
              "      gap: 12px;\n",
              "    }\n",
              "\n",
              "    .colab-df-convert {\n",
              "      background-color: #E8F0FE;\n",
              "      border: none;\n",
              "      border-radius: 50%;\n",
              "      cursor: pointer;\n",
              "      display: none;\n",
              "      fill: #1967D2;\n",
              "      height: 32px;\n",
              "      padding: 0 0 0 0;\n",
              "      width: 32px;\n",
              "    }\n",
              "\n",
              "    .colab-df-convert:hover {\n",
              "      background-color: #E2EBFA;\n",
              "      box-shadow: 0px 1px 2px rgba(60, 64, 67, 0.3), 0px 1px 3px 1px rgba(60, 64, 67, 0.15);\n",
              "      fill: #174EA6;\n",
              "    }\n",
              "\n",
              "    [theme=dark] .colab-df-convert {\n",
              "      background-color: #3B4455;\n",
              "      fill: #D2E3FC;\n",
              "    }\n",
              "\n",
              "    [theme=dark] .colab-df-convert:hover {\n",
              "      background-color: #434B5C;\n",
              "      box-shadow: 0px 1px 3px 1px rgba(0, 0, 0, 0.15);\n",
              "      filter: drop-shadow(0px 1px 2px rgba(0, 0, 0, 0.3));\n",
              "      fill: #FFFFFF;\n",
              "    }\n",
              "  </style>\n",
              "\n",
              "      <script>\n",
              "        const buttonEl =\n",
              "          document.querySelector('#df-081028c8-6063-4790-a2cc-42f92338f725 button.colab-df-convert');\n",
              "        buttonEl.style.display =\n",
              "          google.colab.kernel.accessAllowed ? 'block' : 'none';\n",
              "\n",
              "        async function convertToInteractive(key) {\n",
              "          const element = document.querySelector('#df-081028c8-6063-4790-a2cc-42f92338f725');\n",
              "          const dataTable =\n",
              "            await google.colab.kernel.invokeFunction('convertToInteractive',\n",
              "                                                     [key], {});\n",
              "          if (!dataTable) return;\n",
              "\n",
              "          const docLinkHtml = 'Like what you see? Visit the ' +\n",
              "            '<a target=\"_blank\" href=https://colab.research.google.com/notebooks/data_table.ipynb>data table notebook</a>'\n",
              "            + ' to learn more about interactive tables.';\n",
              "          element.innerHTML = '';\n",
              "          dataTable['output_type'] = 'display_data';\n",
              "          await google.colab.output.renderOutput(dataTable, element);\n",
              "          const docLink = document.createElement('div');\n",
              "          docLink.innerHTML = docLinkHtml;\n",
              "          element.appendChild(docLink);\n",
              "        }\n",
              "      </script>\n",
              "    </div>\n",
              "  </div>\n",
              "  "
            ]
          },
          "metadata": {},
          "execution_count": 12
        }
      ]
    },
    {
      "cell_type": "code",
      "source": [
        "group = group.set_index(keys='계약일')\n",
        "group"
      ],
      "metadata": {
        "id": "E_bq7L7NAAeQ",
        "colab": {
          "base_uri": "https://localhost:8080/",
          "height": 455
        },
        "outputId": "8dd77082-71bb-4db6-a3d9-851b2770901a"
      },
      "execution_count": 13,
      "outputs": [
        {
          "output_type": "execute_result",
          "data": {
            "text/plain": [
              "                   보증금\n",
              "계약일                   \n",
              "20210622  30109.722222\n",
              "20210623  29613.888889\n",
              "20210624  22993.260870\n",
              "20210625  37176.000000\n",
              "20210626  39826.538462\n",
              "...                ...\n",
              "20221212  23277.000000\n",
              "20221213  20769.230769\n",
              "20221214  20445.000000\n",
              "20221215  41520.833333\n",
              "20221216  20907.142857\n",
              "\n",
              "[537 rows x 1 columns]"
            ],
            "text/html": [
              "\n",
              "  <div id=\"df-7ccadc00-1cc3-46a8-8aab-dbd8dd1755fb\">\n",
              "    <div class=\"colab-df-container\">\n",
              "      <div>\n",
              "<style scoped>\n",
              "    .dataframe tbody tr th:only-of-type {\n",
              "        vertical-align: middle;\n",
              "    }\n",
              "\n",
              "    .dataframe tbody tr th {\n",
              "        vertical-align: top;\n",
              "    }\n",
              "\n",
              "    .dataframe thead th {\n",
              "        text-align: right;\n",
              "    }\n",
              "</style>\n",
              "<table border=\"1\" class=\"dataframe\">\n",
              "  <thead>\n",
              "    <tr style=\"text-align: right;\">\n",
              "      <th></th>\n",
              "      <th>보증금</th>\n",
              "    </tr>\n",
              "    <tr>\n",
              "      <th>계약일</th>\n",
              "      <th></th>\n",
              "    </tr>\n",
              "  </thead>\n",
              "  <tbody>\n",
              "    <tr>\n",
              "      <th>20210622</th>\n",
              "      <td>30109.722222</td>\n",
              "    </tr>\n",
              "    <tr>\n",
              "      <th>20210623</th>\n",
              "      <td>29613.888889</td>\n",
              "    </tr>\n",
              "    <tr>\n",
              "      <th>20210624</th>\n",
              "      <td>22993.260870</td>\n",
              "    </tr>\n",
              "    <tr>\n",
              "      <th>20210625</th>\n",
              "      <td>37176.000000</td>\n",
              "    </tr>\n",
              "    <tr>\n",
              "      <th>20210626</th>\n",
              "      <td>39826.538462</td>\n",
              "    </tr>\n",
              "    <tr>\n",
              "      <th>...</th>\n",
              "      <td>...</td>\n",
              "    </tr>\n",
              "    <tr>\n",
              "      <th>20221212</th>\n",
              "      <td>23277.000000</td>\n",
              "    </tr>\n",
              "    <tr>\n",
              "      <th>20221213</th>\n",
              "      <td>20769.230769</td>\n",
              "    </tr>\n",
              "    <tr>\n",
              "      <th>20221214</th>\n",
              "      <td>20445.000000</td>\n",
              "    </tr>\n",
              "    <tr>\n",
              "      <th>20221215</th>\n",
              "      <td>41520.833333</td>\n",
              "    </tr>\n",
              "    <tr>\n",
              "      <th>20221216</th>\n",
              "      <td>20907.142857</td>\n",
              "    </tr>\n",
              "  </tbody>\n",
              "</table>\n",
              "<p>537 rows × 1 columns</p>\n",
              "</div>\n",
              "      <button class=\"colab-df-convert\" onclick=\"convertToInteractive('df-7ccadc00-1cc3-46a8-8aab-dbd8dd1755fb')\"\n",
              "              title=\"Convert this dataframe to an interactive table.\"\n",
              "              style=\"display:none;\">\n",
              "        \n",
              "  <svg xmlns=\"http://www.w3.org/2000/svg\" height=\"24px\"viewBox=\"0 0 24 24\"\n",
              "       width=\"24px\">\n",
              "    <path d=\"M0 0h24v24H0V0z\" fill=\"none\"/>\n",
              "    <path d=\"M18.56 5.44l.94 2.06.94-2.06 2.06-.94-2.06-.94-.94-2.06-.94 2.06-2.06.94zm-11 1L8.5 8.5l.94-2.06 2.06-.94-2.06-.94L8.5 2.5l-.94 2.06-2.06.94zm10 10l.94 2.06.94-2.06 2.06-.94-2.06-.94-.94-2.06-.94 2.06-2.06.94z\"/><path d=\"M17.41 7.96l-1.37-1.37c-.4-.4-.92-.59-1.43-.59-.52 0-1.04.2-1.43.59L10.3 9.45l-7.72 7.72c-.78.78-.78 2.05 0 2.83L4 21.41c.39.39.9.59 1.41.59.51 0 1.02-.2 1.41-.59l7.78-7.78 2.81-2.81c.8-.78.8-2.07 0-2.86zM5.41 20L4 18.59l7.72-7.72 1.47 1.35L5.41 20z\"/>\n",
              "  </svg>\n",
              "      </button>\n",
              "      \n",
              "  <style>\n",
              "    .colab-df-container {\n",
              "      display:flex;\n",
              "      flex-wrap:wrap;\n",
              "      gap: 12px;\n",
              "    }\n",
              "\n",
              "    .colab-df-convert {\n",
              "      background-color: #E8F0FE;\n",
              "      border: none;\n",
              "      border-radius: 50%;\n",
              "      cursor: pointer;\n",
              "      display: none;\n",
              "      fill: #1967D2;\n",
              "      height: 32px;\n",
              "      padding: 0 0 0 0;\n",
              "      width: 32px;\n",
              "    }\n",
              "\n",
              "    .colab-df-convert:hover {\n",
              "      background-color: #E2EBFA;\n",
              "      box-shadow: 0px 1px 2px rgba(60, 64, 67, 0.3), 0px 1px 3px 1px rgba(60, 64, 67, 0.15);\n",
              "      fill: #174EA6;\n",
              "    }\n",
              "\n",
              "    [theme=dark] .colab-df-convert {\n",
              "      background-color: #3B4455;\n",
              "      fill: #D2E3FC;\n",
              "    }\n",
              "\n",
              "    [theme=dark] .colab-df-convert:hover {\n",
              "      background-color: #434B5C;\n",
              "      box-shadow: 0px 1px 3px 1px rgba(0, 0, 0, 0.15);\n",
              "      filter: drop-shadow(0px 1px 2px rgba(0, 0, 0, 0.3));\n",
              "      fill: #FFFFFF;\n",
              "    }\n",
              "  </style>\n",
              "\n",
              "      <script>\n",
              "        const buttonEl =\n",
              "          document.querySelector('#df-7ccadc00-1cc3-46a8-8aab-dbd8dd1755fb button.colab-df-convert');\n",
              "        buttonEl.style.display =\n",
              "          google.colab.kernel.accessAllowed ? 'block' : 'none';\n",
              "\n",
              "        async function convertToInteractive(key) {\n",
              "          const element = document.querySelector('#df-7ccadc00-1cc3-46a8-8aab-dbd8dd1755fb');\n",
              "          const dataTable =\n",
              "            await google.colab.kernel.invokeFunction('convertToInteractive',\n",
              "                                                     [key], {});\n",
              "          if (!dataTable) return;\n",
              "\n",
              "          const docLinkHtml = 'Like what you see? Visit the ' +\n",
              "            '<a target=\"_blank\" href=https://colab.research.google.com/notebooks/data_table.ipynb>data table notebook</a>'\n",
              "            + ' to learn more about interactive tables.';\n",
              "          element.innerHTML = '';\n",
              "          dataTable['output_type'] = 'display_data';\n",
              "          await google.colab.output.renderOutput(dataTable, element);\n",
              "          const docLink = document.createElement('div');\n",
              "          docLink.innerHTML = docLinkHtml;\n",
              "          element.appendChild(docLink);\n",
              "        }\n",
              "      </script>\n",
              "    </div>\n",
              "  </div>\n",
              "  "
            ]
          },
          "metadata": {},
          "execution_count": 13
        }
      ]
    },
    {
      "cell_type": "code",
      "source": [
        "import matplotlib.pyplot as plt\n",
        "import seaborn as sns\n",
        "%matplotlib inline\n",
        "from pylab import rcParams\n",
        "rcParams['figure.figsize'] = 12, 8\n",
        "sns.set(style='whitegrid', palette='muted', font_scale=1.2)\n",
        "\n",
        "plt.plot(group)\n",
        "plt.show()"
      ],
      "metadata": {
        "id": "YremkhYUdRLw",
        "colab": {
          "base_uri": "https://localhost:8080/",
          "height": 504
        },
        "outputId": "6aa81618-fe1c-4e78-962b-c89f00f109db"
      },
      "execution_count": 14,
      "outputs": [
        {
          "output_type": "display_data",
          "data": {
            "text/plain": [
              "<Figure size 864x576 with 1 Axes>"
            ],
            "image/png": "[encoded data removed]"
          },
          "metadata": {}
        }
      ]
    },
    {
      "cell_type": "markdown",
      "source": [
        "# 시퀀스 데이터로 데이터 전처리"
      ],
      "metadata": {
        "id": "8BOmEAHi_W3Z"
      }
    },
    {
      "cell_type": "code",
      "source": [
        "import numpy as np\n",
        "from sklearn.model_selection import train_test_split\n",
        "\n",
        "def create_sequences(data, seq_length):\n",
        "  xs = []\n",
        "  ys = []\n",
        "  for i in range(len(data)-seq_length):\n",
        "    x=data.iloc[i:(i+seq_length)]\n",
        "    y=data.iloc[i+seq_length]\n",
        "    xs.append(x)\n",
        "    ys.append(y)\n",
        "  return np.array(xs), np.array(ys)\n",
        "\n",
        "seq_length=5\n",
        "X, y = create_sequences(group, seq_length)\n"
      ],
      "metadata": {
        "id": "F_u9oIjWkVuA"
      },
      "execution_count": 15,
      "outputs": []
    },
    {
      "cell_type": "code",
      "source": [
        "X.shape, y.shape"
      ],
      "metadata": {
        "colab": {
          "base_uri": "https://localhost:8080/"
        },
        "id": "saGj8NNYDKq9",
        "outputId": "722e9a35-c48f-4e50-8860-4c72ac633946"
      },
      "execution_count": 16,
      "outputs": [
        {
          "output_type": "execute_result",
          "data": {
            "text/plain": [
              "((532, 5, 1), (532, 1))"
            ]
          },
          "metadata": {},
          "execution_count": 16
        }
      ]
    },
    {
      "cell_type": "code",
      "source": [
        "train_size=int(532*0.6)\n",
        "print(train_size)"
      ],
      "metadata": {
        "colab": {
          "base_uri": "https://localhost:8080/"
        },
        "id": "1ZIqRe3_DLx8",
        "outputId": "e466c35f-0a0b-4442-e944-e0b18b3c022c"
      },
      "execution_count": 17,
      "outputs": [
        {
          "output_type": "stream",
          "name": "stdout",
          "text": [
            "319\n"
          ]
        }
      ]
    },
    {
      "cell_type": "code",
      "source": [
        "X_train, y_train = X[:train_size], y[:train_size]\n",
        "X_val, y_val = X[train_size:train_size+107], y[train_size:train_size+107]\n",
        "X_test, y_test = X[train_size+106:], y[train_size+106:]"
      ],
      "metadata": {
        "id": "A1kqLAxnDSFz"
      },
      "execution_count": 18,
      "outputs": []
    },
    {
      "cell_type": "code",
      "source": [
        "print(X_train.shape, X_val.shape, X_test.shape)\n",
        "print(y_train.shape, y_val.shape, y_test.shape)"
      ],
      "metadata": {
        "colab": {
          "base_uri": "https://localhost:8080/"
        },
        "id": "2hDGBZnLDiFd",
        "outputId": "22b0a11b-bb8c-4327-e148-357541611152"
      },
      "execution_count": 19,
      "outputs": [
        {
          "output_type": "stream",
          "name": "stdout",
          "text": [
            "(319, 5, 1) (107, 5, 1) (107, 5, 1)\n",
            "(319, 1) (107, 1) (107, 1)\n"
          ]
        }
      ]
    },
    {
      "cell_type": "code",
      "source": [
        "MIN = X_train.min()\n",
        "MAX = X_train.max()\n",
        "print(MIN, MAX)"
      ],
      "metadata": {
        "colab": {
          "base_uri": "https://localhost:8080/"
        },
        "id": "Cy53AUvEDohr",
        "outputId": "4382d4a9-5044-4efe-989c-46acfa5d940e"
      },
      "execution_count": 20,
      "outputs": [
        {
          "output_type": "stream",
          "name": "stdout",
          "text": [
            "16194.444444444445 61358.333333333336\n"
          ]
        }
      ]
    },
    {
      "cell_type": "code",
      "source": [
        "def MinMaxScale(array, min, max):\n",
        "  return (array-min)/(max-min)"
      ],
      "metadata": {
        "id": "xDp0zaujFeuv"
      },
      "execution_count": 21,
      "outputs": []
    },
    {
      "cell_type": "code",
      "source": [
        "X_train = MinMaxScale(X_train, MIN, MAX)\n",
        "y_train = MinMaxScale(y_train, MIN, MAX)\n",
        "X_val = MinMaxScale(X_val, MIN, MAX)\n",
        "y_val = MinMaxScale(y_val, MIN, MAX)\n",
        "X_test = MinMaxScale(X_test, MIN, MAX)\n",
        "y_test = MinMaxScale(y_test, MIN, MAX)"
      ],
      "metadata": {
        "id": "AsYqhTfpHRaN"
      },
      "execution_count": 22,
      "outputs": []
    },
    {
      "cell_type": "code",
      "source": [
        "import torch\n",
        "\n",
        "def make_Tensor(array):\n",
        "  return torch.from_numpy(array).float()"
      ],
      "metadata": {
        "id": "j7bmmnQ-HhW8"
      },
      "execution_count": 23,
      "outputs": []
    },
    {
      "cell_type": "code",
      "source": [
        "X_train = make_Tensor(X_train)\n",
        "y_train = make_Tensor(y_train)\n",
        "X_val = make_Tensor(X_val)\n",
        "y_val = make_Tensor(y_val)\n",
        "X_test = make_Tensor(X_test)\n",
        "y_test = make_Tensor(y_test)"
      ],
      "metadata": {
        "id": "auMUa0HXHoKp"
      },
      "execution_count": 24,
      "outputs": []
    },
    {
      "cell_type": "code",
      "source": [
        "plt.plot(group.values)"
      ],
      "metadata": {
        "colab": {
          "base_uri": "https://localhost:8080/",
          "height": 505
        },
        "id": "MGdcysVX_cO4",
        "outputId": "a09a503f-74e0-4775-eb73-ad5b3e8197bd"
      },
      "execution_count": 25,
      "outputs": [
        {
          "output_type": "execute_result",
          "data": {
            "text/plain": [
              "[<matplotlib.lines.Line2D at 0x7f3dc4a5c250>]"
            ]
          },
          "metadata": {},
          "execution_count": 25
        },
        {
          "output_type": "display_data",
          "data": {
            "text/plain": [
              "<Figure size 864x576 with 1 Axes>"
            ],
            "image/png": "[encoded data removed]"
          },
          "metadata": {}
        }
      ]
    },
    {
      "cell_type": "code",
      "source": [
        "from torch import nn, optim\n",
        "\n",
        "class HousePredictor(nn.Module):\n",
        "    def __init__(self, n_features, n_hidden, seq_len, n_layers):\n",
        "        super(HousePredictor, self).__init__()\n",
        "        self.n_hidden = n_hidden\n",
        "        self.seq_len = seq_len\n",
        "        self.n_layers = n_layers\n",
        "        self.lstm = nn.LSTM(\n",
        "            input_size=n_features,\n",
        "            hidden_size=n_hidden,\n",
        "            num_layers=n_layers\n",
        "        )\n",
        "        self.linear = nn.Linear(in_features=n_hidden, out_features=1)\n",
        "    def reset_hidden_state(self):\n",
        "        self.hidden = (\n",
        "            torch.zeros(self.n_layers, self.seq_len, self.n_hidden),\n",
        "            torch.zeros(self.n_layers, self.seq_len, self.n_hidden)\n",
        "        )\n",
        "    def forward(self, sequences):\n",
        "        lstm_out, self.hidden = self.lstm(\n",
        "            sequences.view(len(sequences), self.seq_len, -1),\n",
        "            self.hidden\n",
        "        )\n",
        "        last_time_step = lstm_out.view(self.seq_len, len(sequences), self.n_hidden)[-1]\n",
        "        y_pred = self.linear(last_time_step)\n",
        "        return y_pred"
      ],
      "metadata": {
        "id": "AXWKmMnFH0zQ"
      },
      "execution_count": 51,
      "outputs": []
    },
    {
      "cell_type": "code",
      "source": [
        "def train_model(model, train_data, train_labels, val_data=None, val_labels=None, num_epochs=100, verbose = 10, patience = 10):\n",
        "    loss_fn = torch.nn.L1Loss() #\n",
        "    optimiser = torch.optim.Adam(model.parameters(), lr=0.0001)\n",
        "    train_hist = []\n",
        "    val_hist = []\n",
        "    for t in range(num_epochs):\n",
        "\n",
        "        epoch_loss = 0\n",
        "\n",
        "        for idx, seq in enumerate(train_data): \n",
        "\n",
        "            model.reset_hidden_state() # seq 별 hidden state reset\n",
        "\n",
        "            # train loss\n",
        "            seq = torch.unsqueeze(seq, 0)\n",
        "            y_pred = model(seq)\n",
        "            loss = loss_fn(y_pred[0].float(), train_labels[idx]) # 1개의 step에 대한 loss\n",
        "\n",
        "            # update weights\n",
        "            optimiser.zero_grad()\n",
        "            loss.backward()\n",
        "            optimiser.step()\n",
        "\n",
        "            epoch_loss += loss.item()\n",
        "\n",
        "        train_hist.append(epoch_loss / len(train_data))\n",
        "\n",
        "        if val_data is not None:\n",
        "\n",
        "            with torch.no_grad():\n",
        "\n",
        "                val_loss = 0\n",
        "\n",
        "                for val_idx, val_seq in enumerate(val_data):\n",
        "\n",
        "                    model.reset_hidden_state() # seq 별로 hidden state 초기화 \n",
        "\n",
        "                    val_seq = torch.unsqueeze(val_seq, 0)\n",
        "                    y_val_pred = model(val_seq)\n",
        "                    val_step_loss = loss_fn(y_val_pred[0].float(), val_labels[val_idx])\n",
        "\n",
        "                    val_loss += val_step_loss\n",
        "                \n",
        "            val_hist.append(val_loss / len(val_data)) # val hist에 추가\n",
        "\n",
        "            ## verbose 번째 마다 loss 출력 \n",
        "            if t % verbose == 0:\n",
        "                print(f'Epoch {t} train loss: {epoch_loss / len(train_data)} val loss: {val_loss / len(val_data)}')\n",
        "\n",
        "            ## patience 번째 마다 early stopping 여부 확인\n",
        "            if (t % patience == 0) & (t != 0):\n",
        "                \n",
        "                ## loss가 커졌다면 early stop\n",
        "                if val_hist[t - patience] < val_hist[t] :\n",
        "\n",
        "                    print('\\n Early Stopping')\n",
        "\n",
        "                    break\n",
        "\n",
        "        elif t % verbose == 0:\n",
        "            print(f'Epoch {t} train loss: {epoch_loss / len(train_data)}')\n",
        "\n",
        "            \n",
        "    return model, train_hist, val_hist"
      ],
      "metadata": {
        "id": "z3UWBTss63vo"
      },
      "execution_count": 52,
      "outputs": []
    },
    {
      "cell_type": "code",
      "source": [
        "model = HousePredictor(\n",
        "    n_features=1,\n",
        "    n_hidden=4,\n",
        "    seq_len=seq_length,\n",
        "    n_layers=1\n",
        ")\n",
        "model, train_hist, val_hist = train_model(\n",
        "    model,\n",
        "    X_train,\n",
        "    y_train,\n",
        "    X_val,\n",
        "    y_val,\n",
        "    num_epochs=100,\n",
        "    verbose=10,\n",
        "    patience=50\n",
        ")"
      ],
      "metadata": {
        "colab": {
          "base_uri": "https://localhost:8080/"
        },
        "id": "hNWsUgDs77wP",
        "outputId": "a4b9d4dd-7653-448e-c946-05f6fd57774b"
      },
      "execution_count": 53,
      "outputs": [
        {
          "output_type": "stream",
          "name": "stdout",
          "text": [
            "Epoch 0 train loss: 0.7107356221511446 val loss: 0.7114158868789673\n",
            "Epoch 10 train loss: 0.09782237001347317 val loss: 0.12720488011837006\n",
            "Epoch 20 train loss: 0.09740509144191084 val loss: 0.12653683125972748\n",
            "Epoch 30 train loss: 0.097083291570221 val loss: 0.12610265612602234\n",
            "Epoch 40 train loss: 0.0968639159744436 val loss: 0.12577052414417267\n",
            "Epoch 50 train loss: 0.0966965299228142 val loss: 0.12548263370990753\n",
            "Epoch 60 train loss: 0.09653842458530654 val loss: 0.12517273426055908\n",
            "Epoch 70 train loss: 0.09642939012626121 val loss: 0.12496436387300491\n",
            "Epoch 80 train loss: 0.09632217510366889 val loss: 0.12476293742656708\n",
            "Epoch 90 train loss: 0.0962162080416485 val loss: 0.12456182390451431\n"
          ]
        }
      ]
    },
    {
      "cell_type": "code",
      "source": [
        "plt.plot(train_hist, label=\"Training loss\")\n",
        "plt.plot(val_hist, label=\"Val loss\")\n",
        "plt.legend()"
      ],
      "metadata": {
        "colab": {
          "base_uri": "https://localhost:8080/",
          "height": 505
        },
        "id": "SKMQ9UCf8BB4",
        "outputId": "4ec8a2e9-5b42-437f-d268-e7f9f0be8677"
      },
      "execution_count": 54,
      "outputs": [
        {
          "output_type": "execute_result",
          "data": {
            "text/plain": [
              "<matplotlib.legend.Legend at 0x7f3dbbfdf1f0>"
            ]
          },
          "metadata": {},
          "execution_count": 54
        },
        {
          "output_type": "display_data",
          "data": {
            "text/plain": [
              "<Figure size 864x576 with 1 Axes>"
            ],
            "image/png": "[encoded data removed]"
          },
          "metadata": {}
        }
      ]
    },
    {
      "cell_type": "code",
      "source": [
        "pred_dataset = X_test\n",
        "\n",
        "with torch.no_grad():\n",
        "    preds = []\n",
        "    for _ in range(len(pred_dataset)):\n",
        "        model.reset_hidden_state()\n",
        "        y_test_pred = model(torch.unsqueeze(pred_dataset[_], 0))\n",
        "        pred = torch.flatten(y_test_pred).item()\n",
        "        preds.append(pred)"
      ],
      "metadata": {
        "id": "FQi07r978fZx"
      },
      "execution_count": 55,
      "outputs": []
    },
    {
      "cell_type": "code",
      "source": [
        "plt.plot(group.index[-len(y_test):], np.array(y_test) * MAX, label='True')\n",
        "plt.plot(group.index[-len(preds):], np.array(preds) * MAX, label='Pred')\n",
        "plt.xticks(rotation=45)\n",
        "plt.legend()"
      ],
      "metadata": {
        "colab": {
          "base_uri": "https://localhost:8080/",
          "height": 541
        },
        "id": "nLk091I--lX4",
        "outputId": "72d92cae-fff9-4ce1-dc80-b8ca1def5f23"
      },
      "execution_count": 56,
      "outputs": [
        {
          "output_type": "execute_result",
          "data": {
            "text/plain": [
              "<matplotlib.legend.Legend at 0x7f3dbbf91400>"
            ]
          },
          "metadata": {},
          "execution_count": 56
        },
        {
          "output_type": "display_data",
          "data": {
            "text/plain": [
              "<Figure size 864x576 with 1 Axes>"
            ],
            "image/png": "[encoded data removed]"
          },
          "metadata": {}
        }
      ]
    },
    {
      "cell_type": "code",
      "source": [
        "def MAE(true, pred):\n",
        "    return np.mean(np.abs(true-pred))"
      ],
      "metadata": {
        "id": "ahY_cLyZ-0t8"
      },
      "execution_count": 57,
      "outputs": []
    },
    {
      "cell_type": "code",
      "source": [
        "MAE(np.array(y_test)*MAX, np.array(preds)*MAX)"
      ],
      "metadata": {
        "colab": {
          "base_uri": "https://localhost:8080/"
        },
        "id": "DKx8eaBt_H23",
        "outputId": "4b3462be-2894-43c3-ada8-ff6f16eb62af"
      },
      "execution_count": 58,
      "outputs": [
        {
          "output_type": "execute_result",
          "data": {
            "text/plain": [
              "8620.524422952189"
            ]
          },
          "metadata": {},
          "execution_count": 58
        }
      ]
    },
    {
      "cell_type": "code",
      "source": [
        "with torch.no_grad():\n",
        "    test_seq = X_test[:1] # 첫번째 테스트 셋, 3차원\n",
        "    preds = []\n",
        "    for _ in range(len(X_test)):\n",
        "        model.reset_hidden_state()\n",
        "        y_test_pred = model(test_seq)\n",
        "        pred = torch.flatten(y_test_pred).item()\n",
        "        preds.append(pred)\n",
        "        new_seq = test_seq.numpy().flatten()\n",
        "        new_seq = np.append(new_seq, [pred]) # 시퀀스에 추가 \n",
        "        new_seq = new_seq[1:] # 추가된 값을 포함하여 seq_length가 5개가 되도록 맞추기 \n",
        "        test_seq = torch.as_tensor(new_seq).view(1, seq_length, 1).float()"
      ],
      "metadata": {
        "id": "zor75ipX_JCh"
      },
      "execution_count": 59,
      "outputs": []
    },
    {
      "cell_type": "code",
      "source": [
        "plt.plot(group.index[-len(y_test):], np.array(y_test) * MAX, label='True')\n",
        "plt.plot(group.index[-len(preds):], np.array(preds) * MAX, label='Pred')\n",
        "plt.xticks(rotation=45)\n",
        "plt.legend()"
      ],
      "metadata": {
        "colab": {
          "base_uri": "https://localhost:8080/",
          "height": 541
        },
        "id": "jHHKJoCj_PIH",
        "outputId": "a14feeb7-7ecd-42bf-aedc-d4d97d2cf6f9"
      },
      "execution_count": 60,
      "outputs": [
        {
          "output_type": "execute_result",
          "data": {
            "text/plain": [
              "<matplotlib.legend.Legend at 0x7f3dbbf205b0>"
            ]
          },
          "metadata": {},
          "execution_count": 60
        },
        {
          "output_type": "display_data",
          "data": {
            "text/plain": [
              "<Figure size 864x576 with 1 Axes>"
            ],
            "image/png": "[encoded data removed]"
          },
          "metadata": {}
        }
      ]
    },
    {
      "cell_type": "code",
      "source": [
        "MAE(np.array(y_test)*MAX, np.array(preds)*MAX)"
      ],
      "metadata": {
        "colab": {
          "base_uri": "https://localhost:8080/"
        },
        "id": "j4XHXiJGBjN4",
        "outputId": "4a838216-759b-47d4-9f08-1cfd9b42868e"
      },
      "execution_count": 62,
      "outputs": [
        {
          "output_type": "execute_result",
          "data": {
            "text/plain": [
              "8619.297185886191"
            ]
          },
          "metadata": {},
          "execution_count": 62
        }
      ]
    },
    {
      "cell_type": "code",
      "source": [
        "c = nn.Conv1d(in_channels=1, out_channels=1, kernel_size=2, stride=1)\n",
        "input = torch.Tensor([[[1,2,3,4,5]]])\n",
        "output = c(input)\n",
        "output"
      ],
      "metadata": {
        "colab": {
          "base_uri": "https://localhost:8080/"
        },
        "id": "Fi7b0vrD_TYT",
        "outputId": "ddc44fd9-5669-4bb2-c7d7-377ce3f1616a"
      },
      "execution_count": 63,
      "outputs": [
        {
          "output_type": "execute_result",
          "data": {
            "text/plain": [
              "tensor([[[-0.7756, -0.8905, -1.0055, -1.1204]]],\n",
              "       grad_fn=<ConvolutionBackward0>)"
            ]
          },
          "metadata": {},
          "execution_count": 63
        }
      ]
    },
    {
      "cell_type": "code",
      "source": [
        "for param in c.parameters():\n",
        "    print(param)"
      ],
      "metadata": {
        "colab": {
          "base_uri": "https://localhost:8080/"
        },
        "id": "oPWhRtkT_vHV",
        "outputId": "8d5a642c-cdbf-44ba-e989-631bccaba103"
      },
      "execution_count": 64,
      "outputs": [
        {
          "output_type": "stream",
          "name": "stdout",
          "text": [
            "Parameter containing:\n",
            "tensor([[[-0.1442,  0.0293]]], requires_grad=True)\n",
            "Parameter containing:\n",
            "tensor([-0.6900], requires_grad=True)\n"
          ]
        }
      ]
    },
    {
      "cell_type": "code",
      "source": [
        "w_list = []\n",
        "for param in c.parameters():\n",
        "    w_list.append(param)\n",
        "\n",
        "w = w_list[0]\n",
        "b = w_list[1]\n",
        "\n",
        "w1 = w[0][0][0]\n",
        "w2 = w[0][0][1]\n",
        "\n",
        "print(w1)\n",
        "print(w2)\n",
        "print(b)"
      ],
      "metadata": {
        "colab": {
          "base_uri": "https://localhost:8080/"
        },
        "id": "cX6oHf3e_xIU",
        "outputId": "abf9b3bf-a256-4ee2-98f3-9247e903e866"
      },
      "execution_count": 65,
      "outputs": [
        {
          "output_type": "stream",
          "name": "stdout",
          "text": [
            "tensor(-0.1442, grad_fn=<SelectBackward0>)\n",
            "tensor(0.0293, grad_fn=<SelectBackward0>)\n",
            "Parameter containing:\n",
            "tensor([-0.6900], requires_grad=True)\n"
          ]
        }
      ]
    },
    {
      "cell_type": "code",
      "source": [
        "w1 * 3 + w2 * 4 + b"
      ],
      "metadata": {
        "colab": {
          "base_uri": "https://localhost:8080/"
        },
        "id": "cJeNXB5r_yy9",
        "outputId": "6a65faf1-bff9-4ad9-cf94-5bcd45f544f3"
      },
      "execution_count": 67,
      "outputs": [
        {
          "output_type": "execute_result",
          "data": {
            "text/plain": [
              "tensor([-1.0055], grad_fn=<AddBackward0>)"
            ]
          },
          "metadata": {},
          "execution_count": 67
        }
      ]
    },
    {
      "cell_type": "code",
      "source": [
        "output"
      ],
      "metadata": {
        "colab": {
          "base_uri": "https://localhost:8080/"
        },
        "id": "RVCBR63I_0_d",
        "outputId": "135be167-a5d3-4901-b35f-934e7f29f59b"
      },
      "execution_count": 68,
      "outputs": [
        {
          "output_type": "execute_result",
          "data": {
            "text/plain": [
              "tensor([[[-0.7756, -0.8905, -1.0055, -1.1204]]],\n",
              "       grad_fn=<ConvolutionBackward0>)"
            ]
          },
          "metadata": {},
          "execution_count": 68
        }
      ]
    },
    {
      "cell_type": "code",
      "source": [
        "class CovidPredictor(nn.Module):\n",
        "    def __init__(self, n_features, n_hidden, seq_len, n_layers):\n",
        "        super(CovidPredictor, self).__init__()\n",
        "        self.n_hidden = n_hidden\n",
        "        self.seq_len = seq_len\n",
        "        self.n_layers = n_layers\n",
        "        self.c1 = nn.Conv1d(in_channels=1, out_channels=1, kernel_size = 2, stride = 1) # 1D CNN 레이어 추가\n",
        "        self.lstm = nn.LSTM(\n",
        "            input_size=n_features,\n",
        "            hidden_size=n_hidden,\n",
        "            num_layers=n_layers\n",
        "        )\n",
        "        self.linear = nn.Linear(in_features=n_hidden, out_features=1)\n",
        "    def reset_hidden_state(self):\n",
        "        self.hidden = (\n",
        "            torch.zeros(self.n_layers, self.seq_len-1, self.n_hidden),\n",
        "            torch.zeros(self.n_layers, self.seq_len-1, self.n_hidden)\n",
        "        )\n",
        "    def forward(self, sequences):\n",
        "        sequences = self.c1(sequences.view(len(sequences), 1, -1))\n",
        "        lstm_out, self.hidden = self.lstm(\n",
        "            sequences.view(len(sequences), self.seq_len-1, -1),\n",
        "            self.hidden\n",
        "        )\n",
        "        last_time_step = lstm_out.view(self.seq_len-1, len(sequences), self.n_hidden)[-1]\n",
        "        y_pred = self.linear(last_time_step)\n",
        "        return y_pred"
      ],
      "metadata": {
        "id": "JqCjVkLH_4KA"
      },
      "execution_count": 69,
      "outputs": []
    },
    {
      "cell_type": "code",
      "source": [
        "def train_model(model, train_data, train_labels, val_data=None, val_labels=None, num_epochs=100, verbose = 10, patience = 10):\n",
        "    loss_fn = torch.nn.L1Loss() #\n",
        "    optimiser = torch.optim.Adam(model.parameters(), lr=0.0001)\n",
        "    train_hist = []\n",
        "    val_hist = []\n",
        "    for t in range(num_epochs):\n",
        "\n",
        "        epoch_loss = 0\n",
        "\n",
        "        for idx, seq in enumerate(train_data): # sample 별 hidden state reset을 해줘야 함 \n",
        "\n",
        "            model.reset_hidden_state()\n",
        "\n",
        "            # train loss\n",
        "            seq = torch.unsqueeze(seq, 0)\n",
        "            y_pred = model(seq)\n",
        "            loss = loss_fn(y_pred[0].float(), train_labels[idx]) # 1개의 step에 대한 loss\n",
        "\n",
        "            # update weights\n",
        "            optimiser.zero_grad()\n",
        "            loss.backward()\n",
        "            optimiser.step()\n",
        "\n",
        "            epoch_loss += loss.item()\n",
        "\n",
        "        train_hist.append(epoch_loss / len(train_data))\n",
        "\n",
        "        if val_data is not None:\n",
        "\n",
        "            with torch.no_grad():\n",
        "\n",
        "                val_loss = 0\n",
        "\n",
        "                for val_idx, val_seq in enumerate(val_data):\n",
        "\n",
        "                    model.reset_hidden_state() #seq 별로 hidden state 초기화 \n",
        "\n",
        "                    val_seq = torch.unsqueeze(val_seq, 0)\n",
        "                    y_val_pred = model(val_seq)\n",
        "                    val_step_loss = loss_fn(y_val_pred[0].float(), val_labels[val_idx])\n",
        "\n",
        "                    val_loss += val_step_loss\n",
        "                \n",
        "            val_hist.append(val_loss / len(val_data)) # val hist에 추가\n",
        "\n",
        "            ## verbose 번째 마다 loss 출력 \n",
        "            if t % verbose == 0:\n",
        "                print(f'Epoch {t} train loss: {epoch_loss / len(train_data)} val loss: {val_loss / len(val_data)}')\n",
        "\n",
        "            ## patience 번째 마다 early stopping 여부 확인\n",
        "            if (t % patience == 0) & (t != 0):\n",
        "                \n",
        "                ## loss가 커졌다면 early stop\n",
        "                if val_hist[t - patience] < val_hist[t] :\n",
        "\n",
        "                    print('\\n Early Stopping')\n",
        "\n",
        "                    break\n",
        "\n",
        "        elif t % verbose == 0:\n",
        "            print(f'Epoch {t} train loss: {epoch_loss / len(train_data)}')\n",
        "\n",
        "            \n",
        "    return model, train_hist, val_hist"
      ],
      "metadata": {
        "id": "tpvC5jvT_4oW"
      },
      "execution_count": 70,
      "outputs": []
    },
    {
      "cell_type": "code",
      "source": [
        "model = CovidPredictor(\n",
        "    n_features=1,\n",
        "    n_hidden=4,\n",
        "    seq_len=seq_length,\n",
        "    n_layers=1\n",
        ")"
      ],
      "metadata": {
        "id": "qQBurG6K_6yt"
      },
      "execution_count": 71,
      "outputs": []
    },
    {
      "cell_type": "code",
      "source": [
        "print(model)"
      ],
      "metadata": {
        "colab": {
          "base_uri": "https://localhost:8080/"
        },
        "id": "HjVyP98J_8sX",
        "outputId": "d69609d7-583c-4a52-8cb6-c8acccab30f8"
      },
      "execution_count": 72,
      "outputs": [
        {
          "output_type": "stream",
          "name": "stdout",
          "text": [
            "CovidPredictor(\n",
            "  (c1): Conv1d(1, 1, kernel_size=(2,), stride=(1,))\n",
            "  (lstm): LSTM(1, 4)\n",
            "  (linear): Linear(in_features=4, out_features=1, bias=True)\n",
            ")\n"
          ]
        }
      ]
    },
    {
      "cell_type": "code",
      "source": [
        "model, train_hist, val_hist = train_model(\n",
        "    model,\n",
        "    X_train,\n",
        "    y_train,\n",
        "    X_val,\n",
        "    y_val,\n",
        "    num_epochs=100,\n",
        "    verbose=10,\n",
        "    patience=50\n",
        ")"
      ],
      "metadata": {
        "colab": {
          "base_uri": "https://localhost:8080/"
        },
        "id": "nyHssd33_96B",
        "outputId": "ee402c28-28ff-4c29-9d98-3b02db3edc37"
      },
      "execution_count": 73,
      "outputs": [
        {
          "output_type": "stream",
          "name": "stdout",
          "text": [
            "Epoch 0 train loss: 0.2859202243904452 val loss: 0.28426557779312134\n",
            "Epoch 10 train loss: 0.09524217266647793 val loss: 0.12500496208667755\n",
            "Epoch 20 train loss: 0.09523279670637604 val loss: 0.12484774738550186\n",
            "Epoch 30 train loss: 0.09525198407681384 val loss: 0.12485668808221817\n",
            "Epoch 40 train loss: 0.09524894274514296 val loss: 0.12486452609300613\n",
            "Epoch 50 train loss: 0.09524597960953428 val loss: 0.12487157434225082\n",
            "Epoch 60 train loss: 0.095243099247774 val loss: 0.12487784028053284\n",
            "Epoch 70 train loss: 0.09524033921639374 val loss: 0.12488292157649994\n",
            "Epoch 80 train loss: 0.09523768727682227 val loss: 0.12488674372434616\n",
            "Epoch 90 train loss: 0.09521288726023372 val loss: 0.1248888447880745\n"
          ]
        }
      ]
    },
    {
      "cell_type": "code",
      "source": [
        "plt.plot(train_hist, label=\"Training loss\")\n",
        "plt.plot(val_hist, label=\"Val loss\")\n",
        "plt.legend()"
      ],
      "metadata": {
        "colab": {
          "base_uri": "https://localhost:8080/",
          "height": 505
        },
        "id": "ifKGCMxXAAeb",
        "outputId": "678f232e-cea7-45f8-e74c-94a975717591"
      },
      "execution_count": 74,
      "outputs": [
        {
          "output_type": "execute_result",
          "data": {
            "text/plain": [
              "<matplotlib.legend.Legend at 0x7f3dbbe7d790>"
            ]
          },
          "metadata": {},
          "execution_count": 74
        },
        {
          "output_type": "display_data",
          "data": {
            "text/plain": [
              "<Figure size 864x576 with 1 Axes>"
            ],
            "image/png": "[encoded data removed]"
          },
          "metadata": {}
        }
      ]
    },
    {
      "cell_type": "code",
      "source": [
        "pred_dataset = X_test\n",
        "\n",
        "with torch.no_grad():\n",
        "    preds = []\n",
        "    for _ in range(len(pred_dataset)):\n",
        "        model.reset_hidden_state()\n",
        "        y_test_pred = model(torch.unsqueeze(pred_dataset[_], 0))\n",
        "        pred = torch.flatten(y_test_pred).item()\n",
        "        preds.append(pred)"
      ],
      "metadata": {
        "id": "7vWfAlf3BkoK"
      },
      "execution_count": 75,
      "outputs": []
    },
    {
      "cell_type": "code",
      "source": [
        "plt.plot(np.array(y_test)*MAX, label = 'True')\n",
        "plt.plot(np.array(preds)*MAX, label = 'Pred')\n",
        "plt.legend()"
      ],
      "metadata": {
        "colab": {
          "base_uri": "https://localhost:8080/",
          "height": 505
        },
        "id": "f6eQ2VZbCGfP",
        "outputId": "7bf0609d-66c9-48d7-92f6-355781bba88b"
      },
      "execution_count": 76,
      "outputs": [
        {
          "output_type": "execute_result",
          "data": {
            "text/plain": [
              "<matplotlib.legend.Legend at 0x7f3dc4a5c670>"
            ]
          },
          "metadata": {},
          "execution_count": 76
        },
        {
          "output_type": "display_data",
          "data": {
            "text/plain": [
              "<Figure size 864x576 with 1 Axes>"
            ],
            "image/png": "[encoded data removed]"
          },
          "metadata": {}
        }
      ]
    },
    {
      "cell_type": "code",
      "source": [
        "def MAE(true, pred):\n",
        "    return np.mean(np.abs(true-pred))"
      ],
      "metadata": {
        "id": "FGLgDS1B15m3"
      },
      "execution_count": 49,
      "outputs": []
    },
    {
      "cell_type": "code",
      "source": [
        "MAE(np.array(y_test)*MAX, np.array(preds)*MAX)"
      ],
      "metadata": {
        "colab": {
          "base_uri": "https://localhost:8080/"
        },
        "id": "QRAs_cCC2oSL",
        "outputId": "0bd030f5-c29f-42fa-b4a5-bdcc40c92931"
      },
      "execution_count": 50,
      "outputs": [
        {
          "output_type": "execute_result",
          "data": {
            "text/plain": [
              "8531.485731346866"
            ]
          },
          "metadata": {},
          "execution_count": 50
        }
      ]
    },
    {
      "cell_type": "code",
      "source": [],
      "metadata": {
        "id": "5kH3aMed2pV_"
      },
      "execution_count": 50,
      "outputs": []
    }
  ]
}